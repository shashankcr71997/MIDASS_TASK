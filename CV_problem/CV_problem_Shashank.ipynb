{
  "nbformat": 4,
  "nbformat_minor": 0,
  "metadata": {
    "colab": {
      "name": "Untitled0.ipynb",
      "version": "0.3.2",
      "provenance": []
    },
    "kernelspec": {
      "name": "python3",
      "display_name": "Python 3"
    }
  },
  "cells": [
    {
      "metadata": {
        "id": "WQjmd3GhD5EJ",
        "colab_type": "code",
        "colab": {}
      },
      "cell_type": "code",
      "source": [
        "\n",
        "import pickle, csv\n",
        "import numpy as np\n",
        "import pandas as pd\n",
        "\n",
        "import torchvision.datasets as dsets\n",
        "import torchvision.transforms as transforms\n",
        "from torch.utils.data import Dataset, DataLoader"
      ],
      "execution_count": 0,
      "outputs": []
    },
    {
      "metadata": {
        "id": "NtugXpixECj7",
        "colab_type": "text"
      },
      "cell_type": "markdown",
      "source": [
        "**setting the parameters**"
      ]
    },
    {
      "metadata": {
        "id": "0zsk5eYbEFfC",
        "colab_type": "code",
        "colab": {}
      },
      "cell_type": "code",
      "source": [
        "num_epochs = 50;\n",
        "batch_size = 50;\n",
        "learning_rate = 0.001;"
      ],
      "execution_count": 0,
      "outputs": []
    },
    {
      "metadata": {
        "id": "coTaqgJTEOQb",
        "colab_type": "code",
        "colab": {}
      },
      "cell_type": "code",
      "source": [
        "class pkl_dataset(Dataset):\n",
        "    '''taking the data'''\n",
        "    def __init__(self, image_path, label_path):\n",
        "        '''\n",
        "        Parameters\n",
        "        ----------\n",
        "        image_path: Path to pickle file with training images\n",
        "        \n",
        "        label_path: Patht to pickle file with corresponding labels\n",
        "        '''\n",
        "        # Read pickle file and processing\n",
        "        data = pickle.load(open(image_path,\"rb\"))\n",
        "        self.X = np.array(data).reshape(-1, 1, 28, 28)\n",
        "\n",
        "        # Read pickle file and processing\n",
        "        label = pd.DataFrame(pickle.load(open(label_path,\"rb\")))\n",
        "        npLabel = np.asarray(label)\n",
        "\n",
        "        # labels as follows:\n",
        "        # 0 -> 0\n",
        "        # 2 -> 1\n",
        "        # 3 -> 2\n",
        "        # 6 -> 3\n",
        "        np.place(npLabel, npLabel == 0, 0)\n",
        "        np.place(npLabel, npLabel == 2, 1)\n",
        "        np.place(npLabel, npLabel == 3, 2)\n",
        "        np.place(npLabel, npLabel == 6, 3)\n",
        "        self.Y = np.array(label.iloc[:, 0]);\n",
        "        \n",
        "        del data;\n",
        "        \n",
        "    def __len__(self):\n",
        "        return len(self.X);\n",
        "    \n",
        "    def __getitem__(self, idx):\n",
        "        item = self.X[idx];\n",
        "        label = self.Y[idx];        \n",
        "        return (item, label);\n",
        "\n",
        "class pkl_test_dataset(Dataset):\n",
        "    '''Processing given pickle dataset without labels (ie. Test data)'''\n",
        "    def __init__(self, img_path):\n",
        "        '''\n",
        "        Parameters\n",
        "        ----------\n",
        "        image_path: Path to pickle file with testing images\n",
        "        '''\n",
        "        # Read pickle file and preprocess\n",
        "        data = pickle.load(open(img_path,\"rb\"))\n",
        "        self.X = np.array(data).reshape(-1, 1, 28, 28)\n",
        "        \n",
        "        del data;        \n",
        "\n",
        "    def __len__(self):\n",
        "        return len(self.X);\n",
        "    \n",
        "    def __getitem__(self, idx):\n",
        "        item = self.X[idx];\n",
        "                \n",
        "        return (item);"
      ],
      "execution_count": 0,
      "outputs": []
    },
    {
      "metadata": {
        "id": "fnIwwN20E42D",
        "colab_type": "text"
      },
      "cell_type": "markdown",
      "source": [
        "# Train and test Dataset Object\n"
      ]
    },
    {
      "metadata": {
        "id": "zWiZoVOoE8Ql",
        "colab_type": "code",
        "colab": {
          "base_uri": "https://localhost:8080/",
          "height": 34
        },
        "outputId": "66217000-4085-43b3-992d-a79ac45086bb"
      },
      "cell_type": "code",
      "source": [
        "from google.colab import drive\n",
        "drive.mount('/content/drive')"
      ],
      "execution_count": 7,
      "outputs": [
        {
          "output_type": "stream",
          "text": [
            "Drive already mounted at /content/drive; to attempt to forcibly remount, call drive.mount(\"/content/drive\", force_remount=True).\n"
          ],
          "name": "stdout"
        }
      ]
    },
    {
      "metadata": {
        "id": "H7HSeFq5FnKy",
        "colab_type": "code",
        "colab": {}
      },
      "cell_type": "code",
      "source": [
        "import os\n",
        "\n",
        "image_path = '/content/drive/My Drive/Vision_task_dataset_public/train_image.pkl'\n",
        "image_path1='/content/drive/My Drive/Vision_task_dataset_public/train_label.pkl'\n",
        "test_path= '/content/drive/My Drive/Vision_task_dataset_public/test_image.pkl'\n",
        "train = pkl_dataset(image_path,image_path1)\n",
        "test = pkl_test_dataset(test_path)\n",
        "\n"
      ],
      "execution_count": 0,
      "outputs": []
    },
    {
      "metadata": {
        "id": "lvamQ1wSG-PT",
        "colab_type": "code",
        "colab": {}
      },
      "cell_type": "code",
      "source": [
        "import torch\n",
        "import torch.nn as nn\n",
        "import torch.nn.functional as F\n",
        "\n",
        "class CNN(nn.Module):\n",
        "    '''Deep Learning Network'''\n",
        "    def __init__(self):\n",
        "        super(CNN, self).__init__()\n",
        "        self.layer1 = nn.Sequential(\n",
        "            nn.Conv2d(1, 16, kernel_size=5, padding=2),\n",
        "            nn.BatchNorm2d(16),\n",
        "            nn.ReLU(),\n",
        "            nn.MaxPool2d(2))\n",
        "        self.layer2 = nn.Sequential(\n",
        "            nn.Conv2d(16, 32, kernel_size=5, padding=2),\n",
        "            nn.BatchNorm2d(32),\n",
        "            nn.ReLU(),\n",
        "            nn.MaxPool2d(2))\n",
        "        self.fc1 = nn.Linear(7*7*32, 100)\n",
        "        self.fc2 = nn.Linear(100, 4)\n",
        "        \n",
        "    def forward(self, x):\n",
        "        out = self.layer1(x)\n",
        "        out = self.layer2(out)\n",
        "        out = out.view(out.size(0), -1)\n",
        "        out = self.fc2(self.fc1(out))\n",
        "        return out\n",
        "\n",
        "cnn = CNN()"
      ],
      "execution_count": 0,
      "outputs": []
    },
    {
      "metadata": {
        "id": "ut7x2kU5HLU2",
        "colab_type": "code",
        "colab": {}
      },
      "cell_type": "code",
      "source": [
        "import torch.optim as optim\n",
        "import torch.autograd.variable as Variable\n",
        "\n",
        "# Loss and Optimizer\n",
        "criterion = nn.CrossEntropyLoss()\n",
        "optimizer = torch.optim.Adam(cnn.parameters(), lr=learning_rate);"
      ],
      "execution_count": 0,
      "outputs": []
    },
    {
      "metadata": {
        "id": "CsGdtNhPHORe",
        "colab_type": "code",
        "colab": {
          "base_uri": "https://localhost:8080/",
          "height": 2655
        },
        "outputId": "7a955a12-341c-4b3e-9c68-47a2755e74d4"
      },
      "cell_type": "code",
      "source": [
        "# Training dataset into test and train\n",
        "train_size = int(0.8 * 8000)\n",
        "test_size = 8000 - train_size\n",
        "\n",
        "\n",
        "train_loader = torch.utils.data.DataLoader(dataset=train,\n",
        "                                           batch_size=batch_size,\n",
        "                                           shuffle=True);\n",
        "\n",
        "losses = [];\n",
        "for epoch in range(num_epochs):\n",
        "    for i, (images, labels) in enumerate(train_loader):\n",
        "        images = Variable(images.float())\n",
        "        labels = Variable(labels)\n",
        "        # Forward + Backward + Optimize\n",
        "        optimizer.zero_grad()\n",
        "        outputs = cnn(images)\n",
        "        loss = criterion(outputs, labels)\n",
        "        loss.backward()\n",
        "        optimizer.step()\n",
        "        \n",
        "        losses.append(loss.item());\n",
        "        \n",
        "        if (i+1) % batch_size == 0:\n",
        "            print ('Epoch : %d/%d, Iter : %d/%d,  Loss: %.4f' \n",
        "                   %(epoch+1, num_epochs, i+1, 8000//batch_size, loss.item()))"
      ],
      "execution_count": 12,
      "outputs": [
        {
          "output_type": "stream",
          "text": [
            "/usr/local/lib/python3.6/dist-packages/torch/autograd/__init__.py:167: UserWarning: torch.autograd.variable(...) is deprecated, use torch.tensor(...) instead\n",
            "  warnings.warn(\"torch.autograd.variable(...) is deprecated, use torch.tensor(...) instead\")\n",
            "/usr/local/lib/python3.6/dist-packages/torch/autograd/__init__.py:168: UserWarning: To copy construct from a tensor, it is recommended to use sourceTensor.clone().detach() or sourceTensor.clone().detach().requires_grad_(True), rather than torch.tensor(sourceTensor).\n",
            "  return torch.tensor(*args, **kwargs)\n"
          ],
          "name": "stderr"
        },
        {
          "output_type": "stream",
          "text": [
            "Epoch : 1/50, Iter : 50/160,  Loss: 0.5729\n",
            "Epoch : 1/50, Iter : 100/160,  Loss: 0.4608\n",
            "Epoch : 1/50, Iter : 150/160,  Loss: 0.6136\n",
            "Epoch : 2/50, Iter : 50/160,  Loss: 0.1976\n",
            "Epoch : 2/50, Iter : 100/160,  Loss: 0.2952\n",
            "Epoch : 2/50, Iter : 150/160,  Loss: 0.3012\n",
            "Epoch : 3/50, Iter : 50/160,  Loss: 0.4030\n",
            "Epoch : 3/50, Iter : 100/160,  Loss: 0.4692\n",
            "Epoch : 3/50, Iter : 150/160,  Loss: 0.4027\n",
            "Epoch : 4/50, Iter : 50/160,  Loss: 0.3108\n",
            "Epoch : 4/50, Iter : 100/160,  Loss: 0.3221\n",
            "Epoch : 4/50, Iter : 150/160,  Loss: 0.4565\n",
            "Epoch : 5/50, Iter : 50/160,  Loss: 0.1416\n",
            "Epoch : 5/50, Iter : 100/160,  Loss: 0.3460\n",
            "Epoch : 5/50, Iter : 150/160,  Loss: 0.1890\n",
            "Epoch : 6/50, Iter : 50/160,  Loss: 0.1347\n",
            "Epoch : 6/50, Iter : 100/160,  Loss: 0.2155\n",
            "Epoch : 6/50, Iter : 150/160,  Loss: 0.1915\n",
            "Epoch : 7/50, Iter : 50/160,  Loss: 0.2232\n",
            "Epoch : 7/50, Iter : 100/160,  Loss: 0.3310\n",
            "Epoch : 7/50, Iter : 150/160,  Loss: 0.2956\n",
            "Epoch : 8/50, Iter : 50/160,  Loss: 0.1577\n",
            "Epoch : 8/50, Iter : 100/160,  Loss: 0.1465\n",
            "Epoch : 8/50, Iter : 150/160,  Loss: 0.1826\n",
            "Epoch : 9/50, Iter : 50/160,  Loss: 0.2347\n",
            "Epoch : 9/50, Iter : 100/160,  Loss: 0.2351\n",
            "Epoch : 9/50, Iter : 150/160,  Loss: 0.1376\n",
            "Epoch : 10/50, Iter : 50/160,  Loss: 0.2561\n",
            "Epoch : 10/50, Iter : 100/160,  Loss: 0.1985\n",
            "Epoch : 10/50, Iter : 150/160,  Loss: 0.1670\n",
            "Epoch : 11/50, Iter : 50/160,  Loss: 0.1338\n",
            "Epoch : 11/50, Iter : 100/160,  Loss: 0.4109\n",
            "Epoch : 11/50, Iter : 150/160,  Loss: 0.2234\n",
            "Epoch : 12/50, Iter : 50/160,  Loss: 0.0846\n",
            "Epoch : 12/50, Iter : 100/160,  Loss: 0.1230\n",
            "Epoch : 12/50, Iter : 150/160,  Loss: 0.0434\n",
            "Epoch : 13/50, Iter : 50/160,  Loss: 0.2857\n",
            "Epoch : 13/50, Iter : 100/160,  Loss: 0.0803\n",
            "Epoch : 13/50, Iter : 150/160,  Loss: 0.1726\n",
            "Epoch : 14/50, Iter : 50/160,  Loss: 0.2554\n",
            "Epoch : 14/50, Iter : 100/160,  Loss: 0.0874\n",
            "Epoch : 14/50, Iter : 150/160,  Loss: 0.0907\n",
            "Epoch : 15/50, Iter : 50/160,  Loss: 0.0360\n",
            "Epoch : 15/50, Iter : 100/160,  Loss: 0.1569\n",
            "Epoch : 15/50, Iter : 150/160,  Loss: 0.0442\n",
            "Epoch : 16/50, Iter : 50/160,  Loss: 0.1056\n",
            "Epoch : 16/50, Iter : 100/160,  Loss: 0.0539\n",
            "Epoch : 16/50, Iter : 150/160,  Loss: 0.0625\n",
            "Epoch : 17/50, Iter : 50/160,  Loss: 0.1259\n",
            "Epoch : 17/50, Iter : 100/160,  Loss: 0.0504\n",
            "Epoch : 17/50, Iter : 150/160,  Loss: 0.1619\n",
            "Epoch : 18/50, Iter : 50/160,  Loss: 0.0154\n",
            "Epoch : 18/50, Iter : 100/160,  Loss: 0.1105\n",
            "Epoch : 18/50, Iter : 150/160,  Loss: 0.1245\n",
            "Epoch : 19/50, Iter : 50/160,  Loss: 0.0396\n",
            "Epoch : 19/50, Iter : 100/160,  Loss: 0.0486\n",
            "Epoch : 19/50, Iter : 150/160,  Loss: 0.0205\n",
            "Epoch : 20/50, Iter : 50/160,  Loss: 0.0190\n",
            "Epoch : 20/50, Iter : 100/160,  Loss: 0.0312\n",
            "Epoch : 20/50, Iter : 150/160,  Loss: 0.0419\n",
            "Epoch : 21/50, Iter : 50/160,  Loss: 0.1174\n",
            "Epoch : 21/50, Iter : 100/160,  Loss: 0.0048\n",
            "Epoch : 21/50, Iter : 150/160,  Loss: 0.1295\n",
            "Epoch : 22/50, Iter : 50/160,  Loss: 0.1125\n",
            "Epoch : 22/50, Iter : 100/160,  Loss: 0.0332\n",
            "Epoch : 22/50, Iter : 150/160,  Loss: 0.0087\n",
            "Epoch : 23/50, Iter : 50/160,  Loss: 0.0342\n",
            "Epoch : 23/50, Iter : 100/160,  Loss: 0.0133\n",
            "Epoch : 23/50, Iter : 150/160,  Loss: 0.0060\n",
            "Epoch : 24/50, Iter : 50/160,  Loss: 0.0076\n",
            "Epoch : 24/50, Iter : 100/160,  Loss: 0.0094\n",
            "Epoch : 24/50, Iter : 150/160,  Loss: 0.0501\n",
            "Epoch : 25/50, Iter : 50/160,  Loss: 0.0110\n",
            "Epoch : 25/50, Iter : 100/160,  Loss: 0.0461\n",
            "Epoch : 25/50, Iter : 150/160,  Loss: 0.0075\n",
            "Epoch : 26/50, Iter : 50/160,  Loss: 0.0108\n",
            "Epoch : 26/50, Iter : 100/160,  Loss: 0.3906\n",
            "Epoch : 26/50, Iter : 150/160,  Loss: 0.0462\n",
            "Epoch : 27/50, Iter : 50/160,  Loss: 0.1295\n",
            "Epoch : 27/50, Iter : 100/160,  Loss: 0.0867\n",
            "Epoch : 27/50, Iter : 150/160,  Loss: 0.0408\n",
            "Epoch : 28/50, Iter : 50/160,  Loss: 0.0106\n",
            "Epoch : 28/50, Iter : 100/160,  Loss: 0.0190\n",
            "Epoch : 28/50, Iter : 150/160,  Loss: 0.1555\n",
            "Epoch : 29/50, Iter : 50/160,  Loss: 0.0357\n",
            "Epoch : 29/50, Iter : 100/160,  Loss: 0.0100\n",
            "Epoch : 29/50, Iter : 150/160,  Loss: 0.0025\n",
            "Epoch : 30/50, Iter : 50/160,  Loss: 0.0015\n",
            "Epoch : 30/50, Iter : 100/160,  Loss: 0.0016\n",
            "Epoch : 30/50, Iter : 150/160,  Loss: 0.0104\n",
            "Epoch : 31/50, Iter : 50/160,  Loss: 0.0003\n",
            "Epoch : 31/50, Iter : 100/160,  Loss: 0.0024\n",
            "Epoch : 31/50, Iter : 150/160,  Loss: 0.0017\n",
            "Epoch : 32/50, Iter : 50/160,  Loss: 0.0010\n",
            "Epoch : 32/50, Iter : 100/160,  Loss: 0.0005\n",
            "Epoch : 32/50, Iter : 150/160,  Loss: 0.0003\n",
            "Epoch : 33/50, Iter : 50/160,  Loss: 0.0006\n",
            "Epoch : 33/50, Iter : 100/160,  Loss: 0.0008\n",
            "Epoch : 33/50, Iter : 150/160,  Loss: 0.0004\n",
            "Epoch : 34/50, Iter : 50/160,  Loss: 0.0006\n",
            "Epoch : 34/50, Iter : 100/160,  Loss: 0.0003\n",
            "Epoch : 34/50, Iter : 150/160,  Loss: 0.0004\n",
            "Epoch : 35/50, Iter : 50/160,  Loss: 0.0004\n",
            "Epoch : 35/50, Iter : 100/160,  Loss: 0.0001\n",
            "Epoch : 35/50, Iter : 150/160,  Loss: 0.0008\n",
            "Epoch : 36/50, Iter : 50/160,  Loss: 0.0003\n",
            "Epoch : 36/50, Iter : 100/160,  Loss: 0.0002\n",
            "Epoch : 36/50, Iter : 150/160,  Loss: 0.0001\n",
            "Epoch : 37/50, Iter : 50/160,  Loss: 0.0002\n",
            "Epoch : 37/50, Iter : 100/160,  Loss: 0.0002\n",
            "Epoch : 37/50, Iter : 150/160,  Loss: 0.0002\n",
            "Epoch : 38/50, Iter : 50/160,  Loss: 0.0000\n",
            "Epoch : 38/50, Iter : 100/160,  Loss: 0.0002\n",
            "Epoch : 38/50, Iter : 150/160,  Loss: 0.0004\n",
            "Epoch : 39/50, Iter : 50/160,  Loss: 0.0003\n",
            "Epoch : 39/50, Iter : 100/160,  Loss: 0.0002\n",
            "Epoch : 39/50, Iter : 150/160,  Loss: 0.0003\n",
            "Epoch : 40/50, Iter : 50/160,  Loss: 0.0001\n",
            "Epoch : 40/50, Iter : 100/160,  Loss: 0.0001\n",
            "Epoch : 40/50, Iter : 150/160,  Loss: 0.0001\n",
            "Epoch : 41/50, Iter : 50/160,  Loss: 0.0002\n",
            "Epoch : 41/50, Iter : 100/160,  Loss: 0.0002\n",
            "Epoch : 41/50, Iter : 150/160,  Loss: 0.0001\n",
            "Epoch : 42/50, Iter : 50/160,  Loss: 0.0002\n",
            "Epoch : 42/50, Iter : 100/160,  Loss: 0.0002\n",
            "Epoch : 42/50, Iter : 150/160,  Loss: 0.0002\n",
            "Epoch : 43/50, Iter : 50/160,  Loss: 0.0002\n",
            "Epoch : 43/50, Iter : 100/160,  Loss: 0.0001\n",
            "Epoch : 43/50, Iter : 150/160,  Loss: 0.0001\n",
            "Epoch : 44/50, Iter : 50/160,  Loss: 0.0000\n",
            "Epoch : 44/50, Iter : 100/160,  Loss: 0.0001\n",
            "Epoch : 44/50, Iter : 150/160,  Loss: 0.0001\n",
            "Epoch : 45/50, Iter : 50/160,  Loss: 0.0001\n",
            "Epoch : 45/50, Iter : 100/160,  Loss: 0.0001\n",
            "Epoch : 45/50, Iter : 150/160,  Loss: 0.0001\n",
            "Epoch : 46/50, Iter : 50/160,  Loss: 0.0002\n",
            "Epoch : 46/50, Iter : 100/160,  Loss: 0.0001\n",
            "Epoch : 46/50, Iter : 150/160,  Loss: 0.0000\n",
            "Epoch : 47/50, Iter : 50/160,  Loss: 0.0001\n",
            "Epoch : 47/50, Iter : 100/160,  Loss: 0.0001\n",
            "Epoch : 47/50, Iter : 150/160,  Loss: 0.0001\n",
            "Epoch : 48/50, Iter : 50/160,  Loss: 0.0001\n",
            "Epoch : 48/50, Iter : 100/160,  Loss: 0.0001\n",
            "Epoch : 48/50, Iter : 150/160,  Loss: 0.0001\n",
            "Epoch : 49/50, Iter : 50/160,  Loss: 0.0001\n",
            "Epoch : 49/50, Iter : 100/160,  Loss: 0.0000\n",
            "Epoch : 49/50, Iter : 150/160,  Loss: 0.0000\n",
            "Epoch : 50/50, Iter : 50/160,  Loss: 0.0001\n",
            "Epoch : 50/50, Iter : 100/160,  Loss: 0.0001\n",
            "Epoch : 50/50, Iter : 150/160,  Loss: 0.0000\n"
          ],
          "name": "stdout"
        }
      ]
    },
    {
      "metadata": {
        "id": "UxRNj50LJnd2",
        "colab_type": "text"
      },
      "cell_type": "markdown",
      "source": [
        "LOAD AND TEST THE DATASET"
      ]
    },
    {
      "metadata": {
        "id": "XJFUAzIeJrVO",
        "colab_type": "code",
        "colab": {
          "base_uri": "https://localhost:8080/",
          "height": 105
        },
        "outputId": "5f4f2496-00d2-4d45-b212-29243fd30c2d"
      },
      "cell_type": "code",
      "source": [
        "# Load test data\n",
        "test_loader = torch.utils.data.DataLoader(dataset=test,\n",
        "                                           batch_size=batch_size,\n",
        "                                           shuffle=False);\n",
        "# Run the model on the Test data\n",
        "LA = list()\n",
        "with torch.no_grad():\n",
        "    for i, (images) in enumerate(test_loader):\n",
        "\n",
        "        images = Variable(images.float())\n",
        "        \n",
        "        val, labels = torch.max(cnn(images), 1)\n",
        "        LA.append(list(labels))\n",
        "\n",
        "# Convert the labels back again\n",
        "LA = np.asarray(LA).flatten()\n",
        "np.place(LA, LA == 0, 0)\n",
        "np.place(LA, LA == 1, 2)\n",
        "np.place(LA, LA == 2, 3)\n",
        "np.place(LA, LA == 3, 6)"
      ],
      "execution_count": 13,
      "outputs": [
        {
          "output_type": "stream",
          "text": [
            "/usr/local/lib/python3.6/dist-packages/torch/autograd/__init__.py:167: UserWarning: torch.autograd.variable(...) is deprecated, use torch.tensor(...) instead\n",
            "  warnings.warn(\"torch.autograd.variable(...) is deprecated, use torch.tensor(...) instead\")\n",
            "/usr/local/lib/python3.6/dist-packages/torch/autograd/__init__.py:168: UserWarning: To copy construct from a tensor, it is recommended to use sourceTensor.clone().detach() or sourceTensor.clone().detach().requires_grad_(True), rather than torch.tensor(sourceTensor).\n",
            "  return torch.tensor(*args, **kwargs)\n"
          ],
          "name": "stderr"
        }
      ]
    },
    {
      "metadata": {
        "id": "mjLT2N-jJyig",
        "colab_type": "text"
      },
      "cell_type": "markdown",
      "source": [
        "SAVINNG THE OUTPUT INTO TEST FILE"
      ]
    },
    {
      "metadata": {
        "id": "VZSrZZjrJ1Ww",
        "colab_type": "code",
        "colab": {}
      },
      "cell_type": "code",
      "source": [
        "\n",
        "with open('Shashank_verma.csv', mode='w') as label_file:\n",
        "    label_file = csv.writer(label_file, delimiter=',')\n",
        "    label_file.writerow(['image_index', 'class'])\n",
        "    for i in range(len(LA)):\n",
        "        label_file.writerow([i, LA[i]])"
      ],
      "execution_count": 0,
      "outputs": []
    }
  ]
}